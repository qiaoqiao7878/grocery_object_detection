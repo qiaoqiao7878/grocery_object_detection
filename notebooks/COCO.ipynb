{
 "cells": [
  {
   "cell_type": "code",
   "execution_count": 12,
   "metadata": {},
   "outputs": [],
   "source": [
    "from __future__ import annotations\n",
    "import json\n",
    "import pandas as pd\n",
    "\n",
    "json_path = \"instances_val2017.json\"\n",
    "  \n"
   ]
  },
  {
   "cell_type": "code",
   "execution_count": 19,
   "metadata": {},
   "outputs": [
    {
     "name": "stdout",
     "output_type": "stream",
     "text": [
      "info\n",
      "licenses\n",
      "images\n",
      "annotations\n",
      "categories\n"
     ]
    }
   ],
   "source": [
    "# Opening JSON file\n",
    "f = open(json_path)\n",
    "  \n",
    "# returns JSON object as \n",
    "# a dictionary\n",
    "data = json.load(f)\n",
    "  \n",
    "# Iterating through the json\n",
    "# list\n",
    "\n",
    "\n",
    "for i in data:\n",
    "    print(i)\n",
    "\n",
    "# print(data[\"categories\"])\n",
    "# print(data[\"annotations\"][:1])\n",
    "# print(data[\"images\"][:1])\n",
    "\n",
    "with open(\"categories.json\", \"w\") as outfile:\n",
    "    json.dump(data[\"categories\"], outfile)\n",
    "\n",
    "# Closing file\n",
    "f.close()"
   ]
  },
  {
   "cell_type": "code",
   "execution_count": 40,
   "metadata": {},
   "outputs": [
    {
     "name": "stdout",
     "output_type": "stream",
     "text": [
      "   supercategory  id      name\n",
      "46          food  52    banana\n",
      "47          food  53     apple\n",
      "48          food  54  sandwich\n",
      "49          food  55    orange\n",
      "50          food  56  broccoli\n",
      "51          food  57    carrot\n",
      "52          food  58   hot dog\n",
      "53          food  59     pizza\n",
      "54          food  60     donut\n",
      "55          food  61      cake\n"
     ]
    }
   ],
   "source": [
    "df_categories  = pd.read_json(\"categories.json\")\n",
    "df_food = df_categories[df_categories[\"supercategory\"]==\"food\"]\n",
    "print(df_food)"
   ]
  },
  {
   "cell_type": "code",
   "execution_count": 41,
   "metadata": {},
   "outputs": [
    {
     "name": "stdout",
     "output_type": "stream",
     "text": [
      "   license         file_name  \\\n",
      "0        4  000000397133.jpg   \n",
      "1        1  000000037777.jpg   \n",
      "2        4  000000252219.jpg   \n",
      "3        1  000000087038.jpg   \n",
      "4        6  000000174482.jpg   \n",
      "\n",
      "                                            coco_url  height  width  \\\n",
      "0  http://images.cocodataset.org/val2017/00000039...     427    640   \n",
      "1  http://images.cocodataset.org/val2017/00000003...     230    352   \n",
      "2  http://images.cocodataset.org/val2017/00000025...     428    640   \n",
      "3  http://images.cocodataset.org/val2017/00000008...     480    640   \n",
      "4  http://images.cocodataset.org/val2017/00000017...     388    640   \n",
      "\n",
      "         date_captured                                         flickr_url  \\\n",
      "0  2013-11-14 17:02:52  http://farm7.staticflickr.com/6116/6255196340_...   \n",
      "1  2013-11-14 20:55:31  http://farm9.staticflickr.com/8429/7839199426_...   \n",
      "2  2013-11-14 22:32:02  http://farm4.staticflickr.com/3446/3232237447_...   \n",
      "3  2013-11-14 23:11:37  http://farm8.staticflickr.com/7355/8825114508_...   \n",
      "4  2013-11-14 23:16:55  http://farm8.staticflickr.com/7020/6478877255_...   \n",
      "\n",
      "   image_id  \n",
      "0    397133  \n",
      "1     37777  \n",
      "2    252219  \n",
      "3     87038  \n",
      "4    174482  \n"
     ]
    }
   ],
   "source": [
    "df_images  = pd.read_json(\"images.json\")\n",
    "df_images.rename(columns={\"id\":\"image_id\"}, inplace=True)\n",
    "print(df_images.head())\n"
   ]
  },
  {
   "cell_type": "code",
   "execution_count": 46,
   "metadata": {},
   "outputs": [
    {
     "name": "stdout",
     "output_type": "stream",
     "text": [
      "                                           segmentation        area  iscrowd  \\\n",
      "1554  [[307.07, 195.17, 307.84, 190.41, 311.21, 188....   117.15925        0   \n",
      "1555  [[270.91, 202.22, 272.05, 204.14, 273.01, 205....   124.33375        0   \n",
      "1556  [[601.09, 315.43, 615.83, 316.69, 618.65, 322....  1187.44460        0   \n",
      "1557  [[25.95, 238.4, 38.02, 238.4, 46.62, 226.14, 4...  1433.10670        0   \n",
      "1558  [[358.92, 205.08, 363.8, 205.39, 366.85, 206.3...   105.23130        0   \n",
      "\n",
      "      image_id                            bbox  category_id       id  \n",
      "1554     34873   [307.07, 188.26, 15.04, 9.36]           53  1047094  \n",
      "1555     78266  [268.99, 192.47, 12.63, 13.58]           53  1047222  \n",
      "1556     66231  [576.01, 315.43, 45.77, 30.73]           53  1047382  \n",
      "1557    522007     [0.71, 202.0, 45.91, 39.69]           53  1047402  \n",
      "1558    540502   [355.41, 205.08, 14.41, 8.77]           53  1047445  \n"
     ]
    }
   ],
   "source": [
    "\n",
    "df_annotations  = pd.read_json(\"annotations.json\")\n",
    "df_annotations_food = df_annotations[df_annotations[\"category_id\"] == 53]\n",
    "print(df_annotations_food.head())"
   ]
  },
  {
   "cell_type": "code",
   "execution_count": 47,
   "metadata": {},
   "outputs": [
    {
     "name": "stdout",
     "output_type": "stream",
     "text": [
      "1554    000000034873.jpg\n",
      "1555    000000078266.jpg\n",
      "1556    000000066231.jpg\n",
      "1557    000000522007.jpg\n",
      "1558    000000540502.jpg\n",
      "Name: file_name, dtype: object\n"
     ]
    }
   ],
   "source": [
    "df = df_annotations_food.join(df_images.set_index(\"image_id\"), on=\"image_id\")\n",
    "file_names = df[\"file_name\"].drop_duplicates()\n",
    "print(file_names.head())"
   ]
  },
  {
   "cell_type": "code",
   "execution_count": 49,
   "metadata": {},
   "outputs": [],
   "source": [
    "import shutil\n",
    "import os \n",
    "\n",
    "os.makedirs(\"/home/qiao/TUM_AI/COCO/apple/\")\n",
    "\n",
    "for file_name in file_names:\n",
    "    shutil.copyfile(f\"/home/qiao/TUM_AI/COCO/val2017/{file_name}\", f\"/home/qiao/TUM_AI/COCO/apple/{file_name}\")"
   ]
  },
  {
   "cell_type": "code",
   "execution_count": null,
   "metadata": {},
   "outputs": [],
   "source": []
  },
  {
   "cell_type": "code",
   "execution_count": null,
   "metadata": {},
   "outputs": [],
   "source": []
  },
  {
   "cell_type": "markdown",
   "metadata": {},
   "source": []
  }
 ],
 "metadata": {
  "kernelspec": {
   "display_name": "Python 3.8.3 ('base')",
   "language": "python",
   "name": "python3"
  },
  "language_info": {
   "codemirror_mode": {
    "name": "ipython",
    "version": 3
   },
   "file_extension": ".py",
   "mimetype": "text/x-python",
   "name": "python",
   "nbconvert_exporter": "python",
   "pygments_lexer": "ipython3",
   "version": "3.8.3"
  },
  "orig_nbformat": 4,
  "vscode": {
   "interpreter": {
    "hash": "47335b6b3115939f795eb51335683ef4da1cbb262db31185bcb2a61699ddc008"
   }
  }
 },
 "nbformat": 4,
 "nbformat_minor": 2
}
